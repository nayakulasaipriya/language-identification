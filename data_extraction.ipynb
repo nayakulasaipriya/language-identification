{
 "cells": [
  {
   "cell_type": "code",
   "execution_count": null,
   "metadata": {},
   "outputs": [],
   "source": [
    "!pip install scipy -U"
   ]
  },
  {
   "cell_type": "code",
   "execution_count": null,
   "metadata": {},
   "outputs": [],
   "source": [
    "!pip install disvoice"
   ]
  },
  {
   "cell_type": "code",
   "execution_count": null,
   "metadata": {},
   "outputs": [],
   "source": [
    "!pip install torch"
   ]
  },
  {
   "cell_type": "code",
   "execution_count": null,
   "metadata": {},
   "outputs": [],
   "source": [
    "!python Prosody.py \"../data/tamil/IndicTTS_Phase2_Tamil_male_Speaker1_english/english/wav/\" \"tamil_prosody_male_featureset.csv\" \"true\" \"false\" \"csv\"\n",
    "!python Prosody.py \"../data/tamil/IndicTTS_Phase2_Tamil_fem_Speaker1_english-011/english/wav/\" \"tamil_prosody_female_featureset.csv\" \"true\" \"false\" \"csv\""
   ]
  },
  {
   "cell_type": "code",
   "execution_count": null,
   "metadata": {},
   "outputs": [],
   "source": [
    "!python Prosody.py \"../data/kannada/IndicTTS_Phase2_Kannada_male_Speaker1_english/english/wav/\" \"kannada_prosody_male_featureset.csv\" \"true\" \"false\" \"csv\"\n",
    "!python Prosody.py \"../data/kannada/IndicTTS_Phase2_Kannada_fem_Speaker1_english/english/wav/\" \"kannada_prosody_female_featureset.csv\" \"true\" \"false\" \"csv\"\n",
    "!python Prosody.py \"../data/telugu/IndicTTS_Phase2_Telugu_male_Speaker1_english/english/wav/\" \"telugu_prosody_male_featureset.csv\" \"true\" \"false\" \"csv\"\n",
    "!python Prosody.py \"../data/telugu/IndicTTS_Phase2_Telugu_fem_Speaker1_english/english/wav/\" \"telugu_prosody_female_featureset.csv\" \"true\" \"false\" \"csv\""
   ]
  }
 ],
 "metadata": {
  "interpreter": {
   "hash": "2be5faf79681da6f2a61fdfdd5405d65d042280f7fba6178067603e3a2925119"
  },
  "kernelspec": {
   "display_name": "Python 3.10.1 64-bit",
   "name": "python3"
  },
  "language_info": {
   "codemirror_mode": {
    "name": "ipython",
    "version": 3
   },
   "file_extension": ".py",
   "mimetype": "text/x-python",
   "name": "python",
   "nbconvert_exporter": "python",
   "pygments_lexer": "ipython3",
   "version": "3.10.1"
  },
  "orig_nbformat": 4
 },
 "nbformat": 4,
 "nbformat_minor": 2
}
