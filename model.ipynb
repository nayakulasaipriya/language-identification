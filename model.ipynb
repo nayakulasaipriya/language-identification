{
 "cells": [
  {
   "cell_type": "code",
   "execution_count": null,
   "metadata": {},
   "outputs": [],
   "source": [
    "import numpy as np\n",
    "import pandas as pd\n",
    "from sklearn.preprocessing import MinMaxScaler\n",
    "from sklearn.decomposition import PCA\n",
    "from sklearn.model_selection import train_test_split\n",
    "from tensorflow.keras.initializers import random_uniform\n",
    "from keras import models\n",
    "from keras import layers\n",
    "from keras.layers import Dense, Flatten, Convolution1D, Dropout\n",
    "from tensorflow.keras.optimizers import SGD\n"
   ]
  },
  {
   "cell_type": "code",
   "execution_count": null,
   "metadata": {},
   "outputs": [],
   "source": [
    "np.random.seed(42)\n",
    "scaler = MinMaxScaler()\n",
    "\n",
    "def normalize_2d(matrix):\n",
    "    norm = np.linalg.norm(matrix)\n",
    "    print(norm)\n",
    "    matrix = matrix/norm\n",
    "    return matrix\n",
    "\n",
    "\n",
    "X11 = pd.read_csv('tamil_prosody_male_featureset.csv').dropna().iloc[:,:-1]\n",
    "X12 = pd.read_csv('tamil_prosody_female_featureset.csv').dropna().iloc[:,:-1]\n",
    "X21 = pd.read_csv('kannada_prosody_male_featureset.csv').dropna().iloc[:,:-1]\n",
    "X22 = pd.read_csv('kannada_prosody_female_featureset.csv').dropna().iloc[:,:-1]\n",
    "X31 = pd.read_csv('telugu_prosody_male_featureset.csv').dropna().iloc[:,:-1]\n",
    "X32 = pd.read_csv('telugu_prosody_female_featureset.csv').dropna().iloc[:,:-1]\n",
    "\n",
    "X1 = pd.concat([X11, X12], axis = 0)\n",
    "X2 = pd.concat([X21, X22], axis = 0)\n",
    "X3 = pd.concat([X31, X32], axis = 0)\n",
    "\n",
    "y1 = np.zeros(len(X1))\n",
    "y2 = np.ones(len(X2))\n",
    "y3 = np.ones(len(X3)) * 2\n",
    "\n",
    "X = np.array(pd.concat([X1, X2, X3], axis = 0))\n",
    "y = np.concatenate([y1, y2, y3])\n",
    "\n",
    "scaler.fit(X)\n",
    "X_scaled = scaler.transform(X)\n",
    "X_train, X_test, y_train, y_test = train_test_split(X_scaled, y, test_size=0.33, random_state=42)\n",
    "\n",
    "pca = PCA(n_components = 50)\n",
    "X_train = pca.fit_transform(X_train)\n",
    "X_test = pca.transform(X_test)\n",
    "\n",
    "input_dimension = 103\n",
    "learning_rate = 0.025\n",
    "momentum = 0.85\n",
    "hidden_initializer = random_uniform(seed=42)\n",
    "dropout_rate = 0.2\n",
    "\n",
    "X_train = X_train.reshape(X_train.shape[0], X_train.shape[1], 1)\n",
    "X_test = X_test.reshape(X_test.shape[0], X_test.shape[1], 1)\n",
    "\n",
    "model = models.Sequential()\n",
    "model.add(layers.Conv1D(160, 12, kernel_initializer='he_normal', input_shape=(X_train.shape[1],X_train.shape[2]) , activation='relu'))\n",
    "model.add(layers.Dropout(0.2))\n",
    "model.add(layers.Conv1D(128, 10, kernel_initializer='he_normal', activation='relu'))\n",
    "model.add(layers.Dropout(0.2))\n",
    "model.add(layers.Conv1D(96, 8, kernel_initializer='he_normal', activation='relu'))\n",
    "model.add(layers.Dropout(0.2))\n",
    "model.add(layers.GlobalMaxPooling1D())\n",
    "model.add(layers.Dropout(0.5))\n",
    "model.add(Dense(32, kernel_initializer='he_normal', activation='relu'))\n",
    "model.add(layers.Dropout(0.3))\n",
    "model.add(layers.Dense(3, activation='softmax'))\n",
    "\n",
    "sgd = SGD(lr=learning_rate, momentum=momentum)\n",
    "model.compile(loss = 'sparse_categorical_crossentropy', optimizer=sgd, metrics=['acc'])\n",
    "history = model.fit(X_train, y_train, validation_data=(X_test, y_test), epochs=100, batch_size=128)\n",
    "\n",
    "np.save('model/50_history.npy',history.history)\n",
    "model.save('model/50_model.h5')"
   ]
  },
  {
   "cell_type": "code",
   "execution_count": null,
   "metadata": {},
   "outputs": [],
   "source": [
    "model.summary()"
   ]
  },
  {
   "cell_type": "code",
   "execution_count": null,
   "metadata": {},
   "outputs": [],
   "source": [
    "!pip install git+https://github.com/paulgavrikov/visualkeras --upgrade"
   ]
  },
  {
   "cell_type": "code",
   "execution_count": null,
   "metadata": {},
   "outputs": [],
   "source": [
    "import visualkeras\n",
    "\n",
    "visualkeras.layered_view(model = model, to_file='architecture.png').show()"
   ]
  }
 ],
 "metadata": {
  "interpreter": {
   "hash": "2be5faf79681da6f2a61fdfdd5405d65d042280f7fba6178067603e3a2925119"
  },
  "kernelspec": {
   "display_name": "Python 3.10.1 64-bit",
   "name": "python3"
  },
  "language_info": {
   "codemirror_mode": {
    "name": "ipython",
    "version": 3
   },
   "file_extension": ".py",
   "mimetype": "text/x-python",
   "name": "python",
   "nbconvert_exporter": "python",
   "pygments_lexer": "ipython3",
   "version": "3.10.1"
  },
  "orig_nbformat": 4
 },
 "nbformat": 4,
 "nbformat_minor": 2
}
